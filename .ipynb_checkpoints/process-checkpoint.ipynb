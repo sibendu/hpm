{
 "cells": [
  {
   "cell_type": "code",
   "execution_count": 6,
   "id": "a1ffcdb9-f253-4b44-a241-42de51aa6234",
   "metadata": {},
   "outputs": [],
   "source": [
    "from azure.ai.documentintelligence import DocumentIntelligenceClient\n",
    "from azure.ai.documentintelligence.models import AnalyzeDocumentRequest\n",
    "import os\n",
    "from dotenv import load_dotenv\n",
    "\n",
    "ENDPOINT = os.getenv(\"API_ENDPOINT\")\n",
    "KEY = os.getenv(\"API_KEY\")"
   ]
  },
  {
   "cell_type": "code",
   "execution_count": 7,
   "id": "f339b432-ff5c-47b1-a7ed-eb1130078a31",
   "metadata": {},
   "outputs": [],
   "source": [
    "KEY"
   ]
  },
  {
   "cell_type": "code",
   "execution_count": null,
   "id": "b9dcfe8f-6e1b-492e-9f62-e102cff11d2c",
   "metadata": {},
   "outputs": [],
   "source": []
  }
 ],
 "metadata": {
  "kernelspec": {
   "display_name": "Python 3 (ipykernel)",
   "language": "python",
   "name": "python3"
  },
  "language_info": {
   "codemirror_mode": {
    "name": "ipython",
    "version": 3
   },
   "file_extension": ".py",
   "mimetype": "text/x-python",
   "name": "python",
   "nbconvert_exporter": "python",
   "pygments_lexer": "ipython3",
   "version": "3.12.0"
  }
 },
 "nbformat": 4,
 "nbformat_minor": 5
}
