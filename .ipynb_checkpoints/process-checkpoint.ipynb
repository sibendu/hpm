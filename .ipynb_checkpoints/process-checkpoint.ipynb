{
 "cells": [
  {
   "cell_type": "code",
   "execution_count": 13,
   "id": "a1ffcdb9-f253-4b44-a241-42de51aa6234",
   "metadata": {},
   "outputs": [],
   "source": [
    "from azure.ai.documentintelligence import DocumentIntelligenceClient\n",
    "from azure.ai.documentintelligence.models import AnalyzeDocumentRequest\n",
    "from azure.ai.formrecognizer import DocumentAnalysisClient\n",
    "from azure.core.credentials import AzureKeyCredential\n",
    "import os\n",
    "from dotenv import load_dotenv\n",
    "\n",
    "load_dotenv()\n",
    "\n",
    "ENDPOINT = os.getenv(\"API_ENDPOINT\")\n",
    "KEY = os.getenv(\"API_KEY\")"
   ]
  },
  {
   "cell_type": "code",
   "execution_count": 19,
   "id": "320b07d8-1b59-4e6a-b2e9-d57dda3b17ed",
   "metadata": {},
   "outputs": [],
   "source": [
    "#documentUrl = \"https://github.com/sibendu/hpm/blob/e2b8cd753ce86409f48495562e303cd9c5422262/test.pdf\"\n",
    "#document_processor = DocumentIntelligenceClient(endpoint=ENDPOINT, credential=AzureKeyCredential(KEY))\n",
    "#poller = document_processor.begin_analyze_document(\"prebuilt-layout\", AnalyzeDocumentRequest(url_source=documentUrl))\n",
    "\n",
    "documentUrl = 'test.pdf' \n",
    "document_processor = DocumentAnalysisClient(endpoint=ENDPOINT, credential=AzureKeyCredential(KEY))\n",
    "with open(documentUrl, \"rb\") as f:\n",
    "    poller = document_processor.begin_analyze_document(\"prebuilt-document\", document=f, locale=\"en-US\")\n",
    "\n",
    "result = poller.result()"
   ]
  },
  {
   "cell_type": "code",
   "execution_count": 21,
   "id": "abe2a287-2611-4b13-bea1-77af41274831",
   "metadata": {},
   "outputs": [],
   "source": [
    "paragraphs = result.paragraphs\n",
    "values = []\n",
    "for para in paragraphs:\n",
    "    values.append(para.content)"
   ]
  },
  {
   "cell_type": "code",
   "execution_count": 23,
   "id": "8fc285d7-2128-4136-ab90-16d8d4b5a157",
   "metadata": {},
   "outputs": [
    {
     "name": "stdout",
     "output_type": "stream",
     "text": [
      "Output written to file output.txt\n"
     ]
    }
   ],
   "source": [
    "output_file = \"output.txt\" \n",
    "with open(output_file, \"w\") as file:\n",
    "    for val in values:\n",
    "        file.write(val + \"\\n\")\n",
    "\n",
    "print(f\"Output written to file {output_file}\")"
   ]
  },
  {
   "cell_type": "code",
   "execution_count": null,
   "id": "d904acdb-542d-4e51-949a-f3a06d576d76",
   "metadata": {},
   "outputs": [],
   "source": []
  }
 ],
 "metadata": {
  "kernelspec": {
   "display_name": "Python 3 (ipykernel)",
   "language": "python",
   "name": "python3"
  },
  "language_info": {
   "codemirror_mode": {
    "name": "ipython",
    "version": 3
   },
   "file_extension": ".py",
   "mimetype": "text/x-python",
   "name": "python",
   "nbconvert_exporter": "python",
   "pygments_lexer": "ipython3",
   "version": "3.12.0"
  }
 },
 "nbformat": 4,
 "nbformat_minor": 5
}
